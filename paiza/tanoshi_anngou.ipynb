{
 "cells": [
  {
   "cell_type": "code",
   "execution_count": 22,
   "metadata": {
    "collapsed": false
   },
   "outputs": [
    {
     "name": "stdout",
     "output_type": "stream",
     "text": [
      "100 poiuytrewqlkjhgfdsamnbvcxz\n",
      "snn xufu ngebmv qwtg\n"
     ]
    }
   ],
   "source": [
    "n_T = [i for i in input().split()]\n",
    "number = int(n_T[0])\n",
    "replacer = n_T[1]\n",
    "strings = input()"
   ]
  },
  {
   "cell_type": "code",
   "execution_count": 23,
   "metadata": {
    "collapsed": false
   },
   "outputs": [
    {
     "name": "stdout",
     "output_type": "stream",
     "text": [
      "{'g': 'r', 'e': 'y', 'q': 'd', 'j': 'q', ' ': ' ', 'c': 'i', 'i': 'w', 'z': 'z', 's': 'a', 'k': 'l', 'u': 'n', 'n': 'h', 'o': 'g', 'v': 'b', 'f': 't', 'y': 'x', 'l': 'k', 't': 'm', 'd': 'u', 'p': 'f', 'a': 'p', 'm': 'j', 'x': 'c', 'h': 'e', 'w': 'v', 'b': 'o', 'r': 's'}\n"
     ]
    }
   ],
   "source": [
    "alphabet = \"abcdefghijklmnopqrstuvwxyz\"\n",
    "key = {\" \": \" \"}\n",
    "for i in range(26):\n",
    "    key[alphabet[i]] = replacer[i]"
   ]
  },
  {
   "cell_type": "code",
   "execution_count": 26,
   "metadata": {
    "collapsed": false
   },
   "outputs": [
    {
     "name": "stdout",
     "output_type": "stream",
     "text": [
      "fgwnxmsyvdklqertuapjhobicz\n",
      "trvhcjaxbulkdysmnpfqegowiz\n",
      "msbeiqpconkluxajhftdyrgvwz\n",
      "jaoywdfighlkncpqetmuxsrbvz\n",
      "qpgxvutwreklhifdymjncasobz\n",
      "dfrcbnmvsylkewtuxjqhipagoz\n",
      "utsiohjbaxklyvmncqdewfprgz\n",
      "nmawgeqopclkxbjhiduyvtfsrz\n",
      "hjpvrydgfiklcoqewunxbmtasz\n",
      "eqfbsxurtwlkigdyvnhcojmpaz\n",
      "ydtoacnsmvklwruxbheigqjfpz\n",
      "xumgpihajblkvsncoeywrdqtfz\n",
      "cnjrfwepqoklbahigyxvsudmtz\n",
      "ihqstvyfdglkopewrxcbanujmz\n",
      "wedambxturklgfyvsciophnqjz\n",
      "vyupjocmnslkrtxbaiwgfehdqz\n",
      "bxnfqgijhaklsmcopwvrtyeudz\n",
      "ochtdrwqeplkajigfvbsmxynuz\n",
      "giemusvdyfklpqwrtboajcxhnz\n",
      "rwyjnabuxtlkfdvsmogpqicehz\n",
      "svxqhponcmkltubajgrfdwiyez\n",
      "abcdefghijlkmnopqrstuvwxyz\n",
      "poiuytrewqkljhgfdsamnbvcxz\n",
      "fgwnxmsyvdlkqertuapjhobicz\n",
      "trvhcjaxbukldysmnpfqegowiz\n",
      "msbeiqpconlkuxajhftdyrgvwz\n",
      "jaoywdfighklncpqetmuxsrbvz\n",
      "qpgxvutwrelkhifdymjncasobz\n",
      "dfrcbnmvsyklewtuxjqhipagoz\n",
      "utsiohjbaxlkyvmncqdewfprgz\n",
      "nmawgeqopcklxbjhiduyvtfsrz\n",
      "hjpvrydgfilkcoqewunxbmtasz\n",
      "eqfbsxurtwkligdyvnhcojmpaz\n",
      "ydtoacnsmvlkwruxbheigqjfpz\n",
      "xumgpihajbklvsncoeywrdqtfz\n",
      "cnjrfwepqolkbahigyxvsudmtz\n",
      "ihqstvyfdgklopewrxcbanujmz\n",
      "wedambxturlkgfyvsciophnqjz\n",
      "vyupjocmnsklrtxbaiwgfehdqz\n",
      "bxnfqgijhalksmcopwvrtyeudz\n",
      "ochtdrwqepklajigfvbsmxynuz\n",
      "giemusvdyflkpqwrtboajcxhnz\n",
      "rwyjnabuxtklfdvsmogpqicehz\n",
      "svxqhponcmlktubajgrfdwiyez\n",
      "abcdefghijklmnopqrstuvwxyz\n",
      "poiuytrewqlkjhgfdsamnbvcxz\n",
      "fgwnxmsyvdklqertuapjhobicz\n",
      "trvhcjaxbulkdysmnpfqegowiz\n",
      "msbeiqpconkluxajhftdyrgvwz\n",
      "jaoywdfighlkncpqetmuxsrbvz\n",
      "qpgxvutwreklhifdymjncasobz\n",
      "dfrcbnmvsylkewtuxjqhipagoz\n",
      "utsiohjbaxklyvmncqdewfprgz\n",
      "nmawgeqopclkxbjhiduyvtfsrz\n",
      "hjpvrydgfiklcoqewunxbmtasz\n",
      "eqfbsxurtwlkigdyvnhcojmpaz\n",
      "ydtoacnsmvklwruxbheigqjfpz\n",
      "xumgpihajblkvsncoeywrdqtfz\n",
      "cnjrfwepqoklbahigyxvsudmtz\n",
      "ihqstvyfdglkopewrxcbanujmz\n",
      "wedambxturklgfyvsciophnqjz\n",
      "vyupjocmnslkrtxbaiwgfehdqz\n",
      "bxnfqgijhaklsmcopwvrtyeudz\n",
      "ochtdrwqeplkajigfvbsmxynuz\n",
      "giemusvdyfklpqwrtboajcxhnz\n",
      "rwyjnabuxtlkfdvsmogpqicehz\n",
      "svxqhponcmkltubajgrfdwiyez\n",
      "abcdefghijlkmnopqrstuvwxyz\n",
      "poiuytrewqkljhgfdsamnbvcxz\n",
      "fgwnxmsyvdlkqertuapjhobicz\n",
      "trvhcjaxbukldysmnpfqegowiz\n",
      "msbeiqpconlkuxajhftdyrgvwz\n",
      "jaoywdfighklncpqetmuxsrbvz\n",
      "qpgxvutwrelkhifdymjncasobz\n",
      "dfrcbnmvsyklewtuxjqhipagoz\n",
      "utsiohjbaxlkyvmncqdewfprgz\n",
      "nmawgeqopcklxbjhiduyvtfsrz\n",
      "hjpvrydgfilkcoqewunxbmtasz\n",
      "eqfbsxurtwkligdyvnhcojmpaz\n",
      "ydtoacnsmvlkwruxbheigqjfpz\n",
      "xumgpihajbklvsncoeywrdqtfz\n",
      "cnjrfwepqolkbahigyxvsudmtz\n",
      "ihqstvyfdgklopewrxcbanujmz\n",
      "wedambxturlkgfyvsciophnqjz\n",
      "vyupjocmnsklrtxbaiwgfehdqz\n",
      "bxnfqgijhalksmcopwvrtyeudz\n",
      "ochtdrwqepklajigfvbsmxynuz\n",
      "giemusvdyflkpqwrtboajcxhnz\n",
      "rwyjnabuxtklfdvsmogpqicehz\n",
      "svxqhponcmlktubajgrfdwiyez\n",
      "abcdefghijklmnopqrstuvwxyz\n",
      "poiuytrewqlkjhgfdsamnbvcxz\n",
      "fgwnxmsyvdklqertuapjhobicz\n",
      "trvhcjaxbulkdysmnpfqegowiz\n",
      "msbeiqpconkluxajhftdyrgvwz\n",
      "jaoywdfighlkncpqetmuxsrbvz\n",
      "qpgxvutwreklhifdymjncasobz\n",
      "dfrcbnmvsylkewtuxjqhipagoz\n",
      "utsiohjbaxklyvmncqdewfprgz\n"
     ]
    }
   ],
   "source": [
    "for n in range(number-1):\n",
    "    temp_list = []\n",
    "    for i in range(26):\n",
    "        temp = key[replacer[i]]\n",
    "        temp_list.append(temp)\n",
    "    replacer = \"\".join(temp_list)"
   ]
  },
  {
   "cell_type": "code",
   "execution_count": 27,
   "metadata": {
    "collapsed": true
   },
   "outputs": [],
   "source": [
    "reverse_key = {\" \", \" \"}\n",
    "for i in range(26):\n",
    "    key[replacer[i]] = alphabet[i]"
   ]
  },
  {
   "cell_type": "code",
   "execution_count": 28,
   "metadata": {
    "collapsed": false
   },
   "outputs": [
    {
     "name": "stdout",
     "output_type": "stream",
     "text": [
      "cpp java python ruby\n"
     ]
    }
   ],
   "source": [
    "answer = \"\"\n",
    "for s in strings:\n",
    "    answer = answer + key[s]\n",
    "\n",
    "print(answer)"
   ]
  },
  {
   "cell_type": "code",
   "execution_count": null,
   "metadata": {
    "collapsed": true
   },
   "outputs": [],
   "source": []
  }
 ],
 "metadata": {
  "anaconda-cloud": {},
  "kernelspec": {
   "display_name": "Python [Root]",
   "language": "python",
   "name": "Python [Root]"
  },
  "language_info": {
   "codemirror_mode": {
    "name": "ipython",
    "version": 3
   },
   "file_extension": ".py",
   "mimetype": "text/x-python",
   "name": "python",
   "nbconvert_exporter": "python",
   "pygments_lexer": "ipython3",
   "version": "3.5.1"
  }
 },
 "nbformat": 4,
 "nbformat_minor": 0
}
