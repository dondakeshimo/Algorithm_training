{
 "cells": [
  {
   "cell_type": "code",
   "execution_count": 1,
   "metadata": {
    "collapsed": false
   },
   "outputs": [
    {
     "name": "stdout",
     "output_type": "stream",
     "text": [
      "1\n",
      "123456789123456X\n"
     ]
    }
   ],
   "source": [
    "num = int(input())\n",
    "cards = [input() for i in range(num)]\n",
    "x_num = []"
   ]
  },
  {
   "cell_type": "code",
   "execution_count": 4,
   "metadata": {
    "collapsed": true
   },
   "outputs": [],
   "source": [
    "for card in cards:\n",
    "    even_list = card[0:16:2]\n",
    "    odd_list = card[1:16:2]\n",
    "    "
   ]
  },
  {
   "cell_type": "code",
   "execution_count": 6,
   "metadata": {
    "collapsed": false
   },
   "outputs": [],
   "source": [
    "even = sum([int(i) for i in even_list])"
   ]
  },
  {
   "cell_type": "code",
   "execution_count": 8,
   "metadata": {
    "collapsed": true
   },
   "outputs": [],
   "source": [
    "l = [[1, 2, 3], [2,3,4]]"
   ]
  },
  {
   "cell_type": "code",
   "execution_count": 9,
   "metadata": {
    "collapsed": false
   },
   "outputs": [
    {
     "name": "stdout",
     "output_type": "stream",
     "text": [
      "1 2 3\n",
      "2 3 4\n"
     ]
    }
   ],
   "source": [
    "for a, b, c in l:\n",
    "    print(a, b, c)"
   ]
  },
  {
   "cell_type": "code",
   "execution_count": 13,
   "metadata": {
    "collapsed": false
   },
   "outputs": [
    {
     "name": "stdout",
     "output_type": "stream",
     "text": [
      "7 4 5\n",
      "1 3 1\n",
      "3 2 2\n",
      "2 3 5\n",
      "3 4 4\n",
      "1 6 6\n",
      "1 6\n",
      "2 5\n",
      "2 4\n",
      "2 3\n",
      "3 4\n",
      "4 3\n",
      "4 2\n",
      "3 1\n",
      "3 0\n",
      "3\n"
     ]
    }
   ],
   "source": [
    "L_n_m = [int(i) for i in input().split()]\n",
    "lines = []\n",
    "position = 1\n",
    "next_position = 1\n",
    "height = L_n_m[0]\n",
    "\n",
    "for l in range(L_n_m[2]):\n",
    "    lines.append([int(i) for i in input().split()])\n",
    "    \n",
    "while not (height==0):\n",
    "    for a, b, c in lines:\n",
    "        if (position == a and height == b):\n",
    "            next_position = a + 1\n",
    "            next_height = c - 1\n",
    "        elif (position == a+1 and height == b):\n",
    "            next_position = a\n",
    "            next_height = c -1 \n",
    "    if (position == next_position):\n",
    "        height -= 1\n",
    "    else:\n",
    "        position = next_position\n",
    "        height = next_height\n",
    "    print(position, height)\n",
    "            \n",
    "print(position)"
   ]
  },
  {
   "cell_type": "code",
   "execution_count": null,
   "metadata": {
    "collapsed": true
   },
   "outputs": [],
   "source": []
  }
 ],
 "metadata": {
  "kernelspec": {
   "display_name": "Python [Root]",
   "language": "python",
   "name": "Python [Root]"
  },
  "language_info": {
   "codemirror_mode": {
    "name": "ipython",
    "version": 3
   },
   "file_extension": ".py",
   "mimetype": "text/x-python",
   "name": "python",
   "nbconvert_exporter": "python",
   "pygments_lexer": "ipython3",
   "version": "3.5.1"
  }
 },
 "nbformat": 4,
 "nbformat_minor": 0
}
