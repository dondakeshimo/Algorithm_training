{
 "cells": [
  {
   "cell_type": "code",
   "execution_count": 5,
   "metadata": {},
   "outputs": [
    {
     "name": "stdout",
     "output_type": "stream",
     "text": [
      "2 2 1 1\n",
      "miss\n"
     ]
    }
   ],
   "source": [
    "vals = input().split()\n",
    "a=int(vals[0])\n",
    "b=int(vals[1])\n",
    "c=int(vals[2])\n",
    "d=int(vals[3])\n",
    "\n",
    "if c==d:\n",
    "    print('miss')\n",
    "else:\n",
    "    a1=(a-b*d)/(c-d)\n",
    "    a2=(-a+b*c)/(c-d)\n",
    "\n",
    "    #print(a1,a2)\n",
    "\n",
    "    if a1>0 and a2>0 and a1==int(a1) and a2==int(a2):\n",
    "        print(int(a1),int(a2))\n",
    "    else:\n",
    "        print('miss')"
   ]
  },
  {
   "cell_type": "code",
   "execution_count": null,
   "metadata": {
    "collapsed": true
   },
   "outputs": [],
   "source": []
  }
 ],
 "metadata": {
  "kernelspec": {
   "display_name": "Python 3",
   "language": "python",
   "name": "python3"
  },
  "language_info": {
   "codemirror_mode": {
    "name": "ipython",
    "version": 3
   },
   "file_extension": ".py",
   "mimetype": "text/x-python",
   "name": "python",
   "nbconvert_exporter": "python",
   "pygments_lexer": "ipython3",
   "version": "3.6.1"
  }
 },
 "nbformat": 4,
 "nbformat_minor": 2
}
