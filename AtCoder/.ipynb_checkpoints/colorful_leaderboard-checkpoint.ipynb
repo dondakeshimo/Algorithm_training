{
 "cells": [
  {
   "cell_type": "code",
   "execution_count": 1,
   "metadata": {
    "collapsed": false
   },
   "outputs": [
    {
     "name": "stdout",
     "output_type": "stream",
     "text": [
      "5\n",
      "1100 1900 2800 3200 3200\n"
     ]
    }
   ],
   "source": [
    "number = int(input())\n",
    "rate = [int(i) for i in input().split()]"
   ]
  },
  {
   "cell_type": "code",
   "execution_count": 7,
   "metadata": {
    "collapsed": false
   },
   "outputs": [
    {
     "name": "stdout",
     "output_type": "stream",
     "text": [
      "3 5\n"
     ]
    }
   ],
   "source": [
    "counter = {}\n",
    "for r in rate:\n",
    "    if 1 <= r < 400:\n",
    "        counter[\"grey\"] = counter.get(\"grey\", 0) + 1\n",
    "    if 400 <= r < 800:\n",
    "        counter[\"brown\"] = counter.get(\"brown\", 0) + 1\n",
    "    if 800 <= r < 1200:\n",
    "        counter[\"green\"] = counter.get(\"green\", 0) + 1\n",
    "    if 1200 <= r < 1600:\n",
    "        counter[\"sky\"] = counter.get(\"sky\", 0) + 1\n",
    "    if 1600 <= r < 2000:\n",
    "        counter[\"blue\"] = counter.get(\"blue\", 0) + 1\n",
    "    if 2000 <= r < 2400:\n",
    "        counter[\"yellow\"] = counter.get(\"yellow\", 0) + 1\n",
    "    if 2400 <= r < 2800:\n",
    "        counter[\"orange\"] = counter.get(\"orange\", 0) + 1\n",
    "    if 2800 <= r < 3200:\n",
    "        counter[\"red\"] = counter.get(\"red\", 0) + 1\n",
    "    if 3200 <= r:\n",
    "        counter[\"color\"] = counter.get(\"color\", 0) + 1\n",
    "\n",
    "answer = 0\n",
    "for k, v in counter.items():\n",
    "    if not v == 0:\n",
    "        answer += 1\n",
    "        \n",
    "if counter.get(\"color\", 0) == 0:\n",
    "    print(str(answer) + \" \" + str(answer))\n",
    "else:\n",
    "    if answer == 1:\n",
    "        print(\"1 \" + str(counter[\"color\"]))\n",
    "    else:\n",
    "        print(str(answer-1) + \" \" + str(answer-1+counter[\"color\"]))"
   ]
  },
  {
   "cell_type": "code",
   "execution_count": null,
   "metadata": {
    "collapsed": true
   },
   "outputs": [],
   "source": []
  }
 ],
 "metadata": {
  "anaconda-cloud": {},
  "kernelspec": {
   "display_name": "Python [Root]",
   "language": "python",
   "name": "Python [Root]"
  },
  "language_info": {
   "codemirror_mode": {
    "name": "ipython",
    "version": 3
   },
   "file_extension": ".py",
   "mimetype": "text/x-python",
   "name": "python",
   "nbconvert_exporter": "python",
   "pygments_lexer": "ipython3",
   "version": "3.5.1"
  }
 },
 "nbformat": 4,
 "nbformat_minor": 0
}
