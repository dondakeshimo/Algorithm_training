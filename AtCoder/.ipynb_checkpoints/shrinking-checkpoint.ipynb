{
 "cells": [
  {
   "cell_type": "code",
   "execution_count": 53,
   "metadata": {
    "collapsed": false
   },
   "outputs": [
    {
     "name": "stdout",
     "output_type": "stream",
     "text": [
      "whbrjpjyhsrywlqjxdbrbaomnw\n"
     ]
    }
   ],
   "source": [
    "strings = input()"
   ]
  },
  {
   "cell_type": "code",
   "execution_count": 61,
   "metadata": {
    "collapsed": false
   },
   "outputs": [
    {
     "name": "stdout",
     "output_type": "stream",
     "text": [
      "12 0\n",
      "6 17\n",
      "15 5\n",
      "8 6\n",
      "8 10\n",
      "4 20\n",
      "8 10\n",
      "6 14\n",
      "6 17\n",
      "8 16\n",
      "8 6\n",
      "6 14\n",
      "12 0\n",
      "12 12\n",
      "13 11\n",
      "8 10\n",
      "15 9\n",
      "16 8\n",
      "15 5\n",
      "8 6\n",
      "15 5\n",
      "20 4\n",
      "21 3\n",
      "22 2\n",
      "23 1\n",
      "12 0\n"
     ]
    }
   ],
   "source": [
    "answers = []\n",
    "temp_diff = 0\n",
    "\n",
    "for s in strings:\n",
    "    target_index = -1 \n",
    "    answer = 0\n",
    "    index = []\n",
    "    while True:\n",
    "        target_index = strings.find(s, target_index + 1)\n",
    "        if target_index == -1:\n",
    "            break\n",
    "        else:\n",
    "            index.append(target_index)\n",
    "            if len(index) > 1:\n",
    "                temp_diff = index[-1] - index[-2]\n",
    "            else:\n",
    "                temp_diff = index[0]\n",
    "            if temp_diff > answer:\n",
    "                answer = temp_diff\n",
    "                \n",
    "    answer -= 1\n",
    "    temp_diff = len(strings) - index[-1] - 1\n",
    "    print(answer, temp_diff)\n",
    "    if temp_diff > answer:\n",
    "        answer = temp_diff\n",
    "        \n",
    "    answers.append(answer)"
   ]
  },
  {
   "cell_type": "code",
   "execution_count": 62,
   "metadata": {
    "collapsed": false
   },
   "outputs": [
    {
     "name": "stdout",
     "output_type": "stream",
     "text": [
      "8\n"
     ]
    }
   ],
   "source": [
    "print(min(answers))"
   ]
  },
  {
   "cell_type": "code",
   "execution_count": null,
   "metadata": {
    "collapsed": true
   },
   "outputs": [],
   "source": []
  }
 ],
 "metadata": {
  "kernelspec": {
   "display_name": "Python [Root]",
   "language": "python",
   "name": "Python [Root]"
  },
  "language_info": {
   "codemirror_mode": {
    "name": "ipython",
    "version": 3
   },
   "file_extension": ".py",
   "mimetype": "text/x-python",
   "name": "python",
   "nbconvert_exporter": "python",
   "pygments_lexer": "ipython3",
   "version": "3.5.1"
  }
 },
 "nbformat": 4,
 "nbformat_minor": 0
}
