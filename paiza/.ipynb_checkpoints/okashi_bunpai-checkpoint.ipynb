{
 "cells": [
  {
   "cell_type": "code",
   "execution_count": 1,
   "metadata": {
    "collapsed": false
   },
   "outputs": [
    {
     "name": "stdout",
     "output_type": "stream",
     "text": [
      "5 15\n",
      "12\n",
      "13\n",
      "7\n",
      "5\n",
      "8\n"
     ]
    }
   ],
   "source": [
    "M_N = [int(i) for i in input().split()]\n",
    "machine_num = M_N[0]\n",
    "okashi_num = M_N[1]\n",
    "\n",
    "m = [int(input()) for i in range(machine_num)]"
   ]
  },
  {
   "cell_type": "code",
   "execution_count": 14,
   "metadata": {
    "collapsed": false
   },
   "outputs": [
    {
     "name": "stdout",
     "output_type": "stream",
     "text": [
      "4 5 0\n"
     ]
    }
   ],
   "source": [
    "rest = 1000000\n",
    "pack = 0\n",
    "for i, num in enumerate(m, 1):\n",
    "    if rest > okashi_num % num:\n",
    "        rest = okashi_num % num\n",
    "        pack = num\n",
    "        answer = i\n",
    "    elif rest == okashi_num % num:\n",
    "        if pack < num:\n",
    "            pack = num\n",
    "            answer = i\n",
    "\n",
    "print(answer, pack, rest)"
   ]
  },
  {
   "cell_type": "code",
   "execution_count": null,
   "metadata": {
    "collapsed": true
   },
   "outputs": [],
   "source": []
  }
 ],
 "metadata": {
  "anaconda-cloud": {},
  "kernelspec": {
   "display_name": "Python [Root]",
   "language": "python",
   "name": "Python [Root]"
  },
  "language_info": {
   "codemirror_mode": {
    "name": "ipython",
    "version": 3
   },
   "file_extension": ".py",
   "mimetype": "text/x-python",
   "name": "python",
   "nbconvert_exporter": "python",
   "pygments_lexer": "ipython3",
   "version": "3.5.1"
  }
 },
 "nbformat": 4,
 "nbformat_minor": 0
}
