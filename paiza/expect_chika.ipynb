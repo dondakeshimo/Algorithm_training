{
 "cells": [
  {
   "cell_type": "code",
   "execution_count": 11,
   "metadata": {
    "collapsed": false
   },
   "outputs": [
    {
     "name": "stdout",
     "output_type": "stream",
     "text": [
      "4 3\n",
      "3\n",
      "7\n",
      "4 4 10\n",
      "5 4 60\n",
      "6 3 20\n",
      "2 1 30\n",
      "8 1 50\n",
      "1 6 40\n",
      "3 6 70\n",
      "[{'y': 4, 'p': 10, 'dis': 1, 'x': 4}, {'y': 4, 'p': 60, 'dis': 2, 'x': 5}, {'y': 3, 'p': 20, 'dis': 4, 'x': 6}, {'y': 1, 'p': 30, 'dis': 8, 'x': 2}, {'y': 6, 'p': 70, 'dis': 10, 'x': 3}, {'y': 6, 'p': 40, 'dis': 18, 'x': 1}, {'y': 1, 'p': 50, 'dis': 20, 'x': 8}]\n"
     ]
    }
   ],
   "source": [
    "x, y = [int(i) for i in input().split()]\n",
    "k = int(input())\n",
    "N = int(input())\n",
    "\n",
    "price = []\n",
    "for j in range(N):\n",
    "    x_i, y_i, p_i = [int(i) for i in input().split()]\n",
    "    distance = (x - x_i)**2 + (y - y_i)**2\n",
    "    price.append({\"x\": x_i, \"y\": y_i, \"p\": p_i, \"dis\": distance})\n",
    "    \n",
    "price = sorted(price, key=lambda x:x[\"dis\"])\n"
   ]
  },
  {
   "cell_type": "code",
   "execution_count": 13,
   "metadata": {
    "collapsed": false
   },
   "outputs": [
    {
     "name": "stdout",
     "output_type": "stream",
     "text": [
      "30\n"
     ]
    }
   ],
   "source": [
    "temp = 0\n",
    "for i in range(k):\n",
    "    temp += price[i][\"p\"]\n",
    "    \n",
    "f = temp / k\n",
    "i = temp // k\n",
    "\n",
    "if int(f * 2) > i * 2:\n",
    "    answer = i + 1\n",
    "else:\n",
    "    answer = i\n",
    "\n",
    "\n",
    "print(answer)"
   ]
  },
  {
   "cell_type": "code",
   "execution_count": null,
   "metadata": {
    "collapsed": true
   },
   "outputs": [],
   "source": []
  }
 ],
 "metadata": {
  "anaconda-cloud": {},
  "kernelspec": {
   "display_name": "Python [Root]",
   "language": "python",
   "name": "Python [Root]"
  },
  "language_info": {
   "codemirror_mode": {
    "name": "ipython",
    "version": 3
   },
   "file_extension": ".py",
   "mimetype": "text/x-python",
   "name": "python",
   "nbconvert_exporter": "python",
   "pygments_lexer": "ipython3",
   "version": "3.5.1"
  }
 },
 "nbformat": 4,
 "nbformat_minor": 0
}
