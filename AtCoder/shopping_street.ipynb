{
 "cells": [
  {
   "cell_type": "code",
   "execution_count": 1,
   "metadata": {},
   "outputs": [
    {
     "name": "stdout",
     "output_type": "stream",
     "text": [
      "2\n",
      "1 1 1 1 1 0 0 0 0 0\n",
      "0 0 0 0 0 1 1 1 1 1\n",
      "0 2 2 2 2 2 2 2 2 2 2\n",
      "0 2 2 2 2 2 2 2 2 2 2\n"
     ]
    }
   ],
   "source": [
    "N = int(input())\n",
    "F_list = [input().split(' ') for i in range(N)]\n",
    "F_list = [int(i) for i in F_list]\n",
    "P_list = [input().split(' ') for i in range(N)]\n",
    "P_list = [int(i) for i in P_list]"
   ]
  },
  {
   "cell_type": "code",
   "execution_count": 2,
   "metadata": {},
   "outputs": [
    {
     "name": "stdout",
     "output_type": "stream",
     "text": [
      "[['1', '1', '1', '1', '1', '0', '0', '0', '0', '0'], ['0', '0', '0', '0', '0', '1', '1', '1', '1', '1']]\n"
     ]
    }
   ],
   "source": [
    "print(F_list)"
   ]
  },
  {
   "cell_type": "code",
   "execution_count": null,
   "metadata": {
    "collapsed": true
   },
   "outputs": [],
   "source": []
  }
 ],
 "metadata": {
  "kernelspec": {
   "display_name": "Python 3",
   "language": "python",
   "name": "python3"
  },
  "language_info": {
   "codemirror_mode": {
    "name": "ipython",
    "version": 3
   },
   "file_extension": ".py",
   "mimetype": "text/x-python",
   "name": "python",
   "nbconvert_exporter": "python",
   "pygments_lexer": "ipython3",
   "version": "3.6.1"
  }
 },
 "nbformat": 4,
 "nbformat_minor": 2
}
