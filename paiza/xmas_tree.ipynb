{
 "cells": [
  {
   "cell_type": "code",
   "execution_count": 34,
   "metadata": {},
   "outputs": [],
   "source": [
    "import numpy as np"
   ]
  },
  {
   "cell_type": "code",
   "execution_count": 35,
   "metadata": {},
   "outputs": [
    {
     "name": "stdout",
     "output_type": "stream",
     "text": [
      "4\n",
      "3 -4 5\n",
      "3 4 5\n",
      "0 100 100\n",
      "80 0 1\n"
     ]
    }
   ],
   "source": [
    "N = int(input())\n",
    "trees = [[int(j) for j in input().split(\" \")] for i in range(N)]"
   ]
  },
  {
   "cell_type": "code",
   "execution_count": 71,
   "metadata": {},
   "outputs": [],
   "source": [
    "street = [0 for i in range(10001)]"
   ]
  },
  {
   "cell_type": "code",
   "execution_count": 72,
   "metadata": {},
   "outputs": [],
   "source": [
    "def calc_intersection(a, b, r):\n",
    "    if b > r:\n",
    "        return -1\n",
    "    else:\n",
    "        x_1 = int(np.ceil(a - np.sqrt(r**2 - b**2)))\n",
    "        x_2 = int(np.floor(a + np.sqrt(r**2 - b**2)))\n",
    "        return x_1, x_2 "
   ]
  },
  {
   "cell_type": "code",
   "execution_count": 74,
   "metadata": {
    "collapsed": true
   },
   "outputs": [],
   "source": [
    "def count_trees(tree, street):\n",
    "    if tree[0] < 0:\n",
    "        tree[0] = 0\n",
    "    if tree[1] > 10000:\n",
    "        tree[1] = 10000\n",
    "\n",
    "    if tree[0] == tree[1]:\n",
    "        street[tree[0]] += 1\n",
    "    else:\n",
    "        for i in range(tree[0], tree[1]):\n",
    "            street[i] += 1\n",
    "    return street"
   ]
  },
  {
   "cell_type": "code",
   "execution_count": 75,
   "metadata": {},
   "outputs": [],
   "source": [
    "for tr in trees:\n",
    "    tree = calc_intersection(tr[0], tr[1], tr[2])\n",
    "    street = count_trees(tree, street)"
   ]
  },
  {
   "cell_type": "code",
   "execution_count": 76,
   "metadata": {},
   "outputs": [],
   "source": [
    "answer = max(street)"
   ]
  },
  {
   "cell_type": "code",
   "execution_count": 77,
   "metadata": {},
   "outputs": [
    {
     "name": "stdout",
     "output_type": "stream",
     "text": [
      "3\n"
     ]
    }
   ],
   "source": [
    "print(answer)"
   ]
  },
  {
   "cell_type": "code",
   "execution_count": null,
   "metadata": {
    "collapsed": true
   },
   "outputs": [],
   "source": []
  }
 ],
 "metadata": {
  "kernelspec": {
   "display_name": "Python 3",
   "language": "python",
   "name": "python3"
  },
  "language_info": {
   "codemirror_mode": {
    "name": "ipython",
    "version": 3
   },
   "file_extension": ".py",
   "mimetype": "text/x-python",
   "name": "python",
   "nbconvert_exporter": "python",
   "pygments_lexer": "ipython3",
   "version": "3.6.1"
  }
 },
 "nbformat": 4,
 "nbformat_minor": 2
}
